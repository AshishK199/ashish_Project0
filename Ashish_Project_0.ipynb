{
 "cells": [
  {
   "cell_type": "code",
   "execution_count": null,
   "id": "315051c2",
   "metadata": {},
   "outputs": [],
   "source": [
    "#Problem Description:-Meal delivery system filter the data by using the in built operation.\n",
    "#Database:- Mongodb Compass\n",
    "#Requirement and tech stack :- Python,data in json file and MongoDB is implemented python libraries need for connecting are pymongo,json,pprint,json,warnings."
   ]
  },
  {
   "cell_type": "code",
   "execution_count": 22,
   "id": "a26a5c71",
   "metadata": {},
   "outputs": [],
   "source": [
    "#Importing libraries\n",
    "import pymongo \n",
    "import pprint\n",
    "import json\n",
    "import warnings\n",
    "warnings.filterwarnings('ignore')"
   ]
  },
  {
   "cell_type": "code",
   "execution_count": 2,
   "id": "22a42957",
   "metadata": {},
   "outputs": [],
   "source": [
    "#Initializing the client to Mongo / instance\n",
    "client=pymongo.MongoClient('localhost',27017)"
   ]
  },
  {
   "cell_type": "code",
   "execution_count": 3,
   "id": "0e489cf6",
   "metadata": {},
   "outputs": [],
   "source": [
    "#Creating the instance of database\n",
    "database=client[\"PROJECT_0\"]\n"
   ]
  },
  {
   "cell_type": "code",
   "execution_count": 4,
   "id": "21082c16",
   "metadata": {},
   "outputs": [],
   "source": [
    "#Initializing the instance of collection\n",
    "collection=database[\"Meal_Information\"]\n",
    "#another way\n",
    "# collection=database.get_collection(\"meal_information\")"
   ]
  },
  {
   "cell_type": "code",
   "execution_count": 5,
   "id": "e320819d",
   "metadata": {},
   "outputs": [],
   "source": [
    "#List of documents for collection in json file format\n",
    "meal_info=[{\"meal_id\":1885,\"category\":\"Beverages\",\"cuisine\":\"Thai\"},{\"meal_id\":1993,\"category\":\"Beverages\",\"cuisine\":\"Thai\"},{\"meal_id\":2539,\"category\":\"Beverages\",\"cuisine\":\"Thai\"},{\"meal_id\":1248,\"category\":\"Beverages\",\"cuisine\":\"Indian\"},{\"meal_id\":2631,\"category\":\"Beverages\",\"cuisine\":\"Indian\"},{\"meal_id\":1311,\"category\":\"Extras\",\"cuisine\":\"Thai\"},{\"meal_id\":1062,\"category\":\"Beverages\",\"cuisine\":\"Italian\"},{\"meal_id\":1778,\"category\":\"Beverages\",\"cuisine\":\"Italian\"},{\"meal_id\":1803,\"category\":\"Extras\",\"cuisine\":\"Thai\"},{\"meal_id\":1198,\"category\":\"Extras\",\"cuisine\":\"Thai\"},{\"meal_id\":2707,\"category\":\"Beverages\",\"cuisine\":\"Italian\"},{\"meal_id\":1847,\"category\":\"Soup\",\"cuisine\":\"Thai\"},{\"meal_id\":1438,\"category\":\"Soup\",\"cuisine\":\"Thai\"},{\"meal_id\":2494,\"category\":\"Soup\",\"cuisine\":\"Thai\"},{\"meal_id\":2760,\"category\":\"Other Snacks\",\"cuisine\":\"Thai\"},{\"meal_id\":2490,\"category\":\"Salad\",\"cuisine\":\"Italian\"},{\"meal_id\":1109,\"category\":\"Rice Bowl\",\"cuisine\":\"Indian\"},{\"meal_id\":2290,\"category\":\"Rice Bowl\",\"cuisine\":\"Indian\"},{\"meal_id\":1525,\"category\":\"Other Snacks\",\"cuisine\":\"Thai\"},{\"meal_id\":2704,\"category\":\"Other Snacks\",\"cuisine\":\"Thai\"},{\"meal_id\":1878,\"category\":\"Starters\",\"cuisine\":\"Thai\"},{\"meal_id\":2640,\"category\":\"Starters\",\"cuisine\":\"Thai\"},{\"meal_id\":2577,\"category\":\"Starters\",\"cuisine\":\"Thai\"},{\"meal_id\":1754,\"category\":\"Sandwich\",\"cuisine\":\"Italian\"},{\"meal_id\":1971,\"category\":\"Sandwich\",\"cuisine\":\"Italian\"},{\"meal_id\":2306,\"category\":\"Pasta\",\"cuisine\":\"Italian\"},{\"meal_id\":2139,\"category\":\"Beverages\",\"cuisine\":\"Indian\"},{\"meal_id\":2826,\"category\":\"Sandwich\",\"cuisine\":\"Italian\"},{\"meal_id\":2664,\"category\":\"Salad\",\"cuisine\":\"Italian\"},{\"meal_id\":2569,\"category\":\"Salad\",\"cuisine\":\"Italian\"},{\"meal_id\":1230,\"category\":\"Beverages\",\"cuisine\":\"Continental\"},{\"meal_id\":1207,\"category\":\"Beverages\",\"cuisine\":\"Continental\"},{\"meal_id\":2322,\"category\":\"Beverages\",\"cuisine\":\"Continental\"},{\"meal_id\":2492,\"category\":\"Desert\",\"cuisine\":\"Indian\"},{\"meal_id\":1216,\"category\":\"Pasta\",\"cuisine\":\"Italian\"},{\"meal_id\":1727,\"category\":\"Rice Bowl\",\"cuisine\":\"Indian\"},{\"meal_id\":1902,\"category\":\"Biryani\",\"cuisine\":\"Indian\"},{\"meal_id\":1247,\"category\":\"Biryani\",\"cuisine\":\"Indian\"},{\"meal_id\":2304,\"category\":\"Desert\",\"cuisine\":\"Indian\"},{\"meal_id\":1543,\"category\":\"Desert\",\"cuisine\":\"Indian\"},{\"meal_id\":1770,\"category\":\"Biryani\",\"cuisine\":\"Indian\"},{\"meal_id\":2126,\"category\":\"Pasta\",\"cuisine\":\"Italian\"},{\"meal_id\":1558,\"category\":\"Pizza\",\"cuisine\":\"Continental\"},{\"meal_id\":2581,\"category\":\"Pizza\",\"cuisine\":\"Continental\"},{\"meal_id\":1962,\"category\":\"Pizza\",\"cuisine\":\"Continental\"},{\"meal_id\":1571,\"category\":\"Fish\",\"cuisine\":\"Continental\"},{\"meal_id\":2956,\"category\":\"Fish\",\"cuisine\":\"Continental\"},{\"meal_id\":2104,\"category\":\"Fish\",\"cuisine\":\"Continental\"},{\"meal_id\":2444,\"category\":\"Seafood\",\"cuisine\":\"Continental\"},{\"meal_id\":2867,\"category\":\"Seafood\",\"cuisine\":\"Continental\"},{\"meal_id\":1445,\"category\":\"Seafood\",\"cuisine\":\"Continental\"}]"
   ]
  },
  {
   "cell_type": "code",
   "execution_count": 6,
   "id": "c7327ca1",
   "metadata": {},
   "outputs": [
    {
     "data": {
      "text/plain": [
       "<pymongo.results.InsertManyResult at 0x1c9405e62c0>"
      ]
     },
     "execution_count": 6,
     "metadata": {},
     "output_type": "execute_result"
    }
   ],
   "source": [
    "#Insertting in the meal info\n",
    "collection.insert_many(meal_info)"
   ]
  },
  {
   "cell_type": "code",
   "execution_count": 7,
   "id": "c4094d56",
   "metadata": {},
   "outputs": [],
   "source": [
    "#Insert one\n",
    "insrt={'meal_id':1010,'category':\"frenchfries\",\"cuisine\":\"Indian\"}\n",
    "result=collection.insert_one(insrt)"
   ]
  },
  {
   "cell_type": "code",
   "execution_count": 8,
   "id": "7790b7b5",
   "metadata": {},
   "outputs": [
    {
     "data": {
      "text/plain": [
       "{'_id': ObjectId('60ec689cf98f44ebb8c532a6'),\n",
       " 'meal_id': 1010,\n",
       " 'category': 'frenchfries',\n",
       " 'cuisine': 'Indian'}"
      ]
     },
     "execution_count": 8,
     "metadata": {},
     "output_type": "execute_result"
    }
   ],
   "source": [
    "#Find_one\n",
    "collection.find_one({'meal_id':1010})"
   ]
  },
  {
   "cell_type": "code",
   "execution_count": 9,
   "id": "25c3d5a5",
   "metadata": {},
   "outputs": [
    {
     "name": "stdout",
     "output_type": "stream",
     "text": [
      "{'_id': ObjectId('60ec6894f98f44ebb8c53273'), 'meal_id': 1885, 'category': 'Beverages', 'cuisine': 'Thai'}\n",
      "{'_id': ObjectId('60ec6894f98f44ebb8c53274'), 'meal_id': 1993, 'category': 'Beverages', 'cuisine': 'Thai'}\n",
      "{'_id': ObjectId('60ec6894f98f44ebb8c53275'), 'meal_id': 2539, 'category': 'Beverages', 'cuisine': 'Thai'}\n"
     ]
    }
   ],
   "source": [
    "#Limit\n",
    "for meal_info in collection.find().limit(3):\n",
    "   print(meal_info)"
   ]
  },
  {
   "cell_type": "code",
   "execution_count": 10,
   "id": "b947fe81",
   "metadata": {},
   "outputs": [
    {
     "data": {
      "text/plain": [
       "<pymongo.cursor.Cursor at 0x1c9405e3b50>"
      ]
     },
     "execution_count": 10,
     "metadata": {},
     "output_type": "execute_result"
    }
   ],
   "source": [
    "collection.find()"
   ]
  },
  {
   "cell_type": "code",
   "execution_count": 11,
   "id": "d3fdddf9",
   "metadata": {
    "scrolled": false
   },
   "outputs": [
    {
     "name": "stdout",
     "output_type": "stream",
     "text": [
      "Documents in the collection: \n",
      "{'_id': ObjectId('60ec6894f98f44ebb8c53273'), 'meal_id': 1885, 'category': 'Beverages', 'cuisine': 'Thai'}\n",
      "{'_id': ObjectId('60ec6894f98f44ebb8c53274'), 'meal_id': 1993, 'category': 'Beverages', 'cuisine': 'Thai'}\n",
      "{'_id': ObjectId('60ec6894f98f44ebb8c53275'), 'meal_id': 2539, 'category': 'Beverages', 'cuisine': 'Thai'}\n",
      "{'_id': ObjectId('60ec6894f98f44ebb8c53276'), 'meal_id': 1248, 'category': 'Beverages', 'cuisine': 'Indian'}\n",
      "{'_id': ObjectId('60ec6894f98f44ebb8c53277'), 'meal_id': 2631, 'category': 'Beverages', 'cuisine': 'Indian'}\n",
      "{'_id': ObjectId('60ec6894f98f44ebb8c53278'), 'meal_id': 1311, 'category': 'Extras', 'cuisine': 'Thai'}\n",
      "{'_id': ObjectId('60ec6894f98f44ebb8c53279'), 'meal_id': 1062, 'category': 'Beverages', 'cuisine': 'Italian'}\n",
      "{'_id': ObjectId('60ec6894f98f44ebb8c5327a'), 'meal_id': 1778, 'category': 'Beverages', 'cuisine': 'Italian'}\n",
      "{'_id': ObjectId('60ec6894f98f44ebb8c5327b'), 'meal_id': 1803, 'category': 'Extras', 'cuisine': 'Thai'}\n",
      "{'_id': ObjectId('60ec6894f98f44ebb8c5327c'), 'meal_id': 1198, 'category': 'Extras', 'cuisine': 'Thai'}\n",
      "{'_id': ObjectId('60ec6894f98f44ebb8c5327d'), 'meal_id': 2707, 'category': 'Beverages', 'cuisine': 'Italian'}\n",
      "{'_id': ObjectId('60ec6894f98f44ebb8c5327e'), 'meal_id': 1847, 'category': 'Soup', 'cuisine': 'Thai'}\n",
      "{'_id': ObjectId('60ec6894f98f44ebb8c5327f'), 'meal_id': 1438, 'category': 'Soup', 'cuisine': 'Thai'}\n",
      "{'_id': ObjectId('60ec6894f98f44ebb8c53280'), 'meal_id': 2494, 'category': 'Soup', 'cuisine': 'Thai'}\n",
      "{'_id': ObjectId('60ec6894f98f44ebb8c53281'), 'meal_id': 2760, 'category': 'Other Snacks', 'cuisine': 'Thai'}\n",
      "{'_id': ObjectId('60ec6894f98f44ebb8c53282'), 'meal_id': 2490, 'category': 'Salad', 'cuisine': 'Italian'}\n",
      "{'_id': ObjectId('60ec6894f98f44ebb8c53283'), 'meal_id': 1109, 'category': 'Rice Bowl', 'cuisine': 'Indian'}\n",
      "{'_id': ObjectId('60ec6894f98f44ebb8c53284'), 'meal_id': 2290, 'category': 'Rice Bowl', 'cuisine': 'Indian'}\n",
      "{'_id': ObjectId('60ec6894f98f44ebb8c53285'), 'meal_id': 1525, 'category': 'Other Snacks', 'cuisine': 'Thai'}\n",
      "{'_id': ObjectId('60ec6894f98f44ebb8c53286'), 'meal_id': 2704, 'category': 'Other Snacks', 'cuisine': 'Thai'}\n",
      "{'_id': ObjectId('60ec6894f98f44ebb8c53287'), 'meal_id': 1878, 'category': 'Starters', 'cuisine': 'Thai'}\n",
      "{'_id': ObjectId('60ec6894f98f44ebb8c53288'), 'meal_id': 2640, 'category': 'Starters', 'cuisine': 'Thai'}\n",
      "{'_id': ObjectId('60ec6894f98f44ebb8c53289'), 'meal_id': 2577, 'category': 'Starters', 'cuisine': 'Thai'}\n",
      "{'_id': ObjectId('60ec6894f98f44ebb8c5328a'), 'meal_id': 1754, 'category': 'Sandwich', 'cuisine': 'Italian'}\n",
      "{'_id': ObjectId('60ec6894f98f44ebb8c5328b'), 'meal_id': 1971, 'category': 'Sandwich', 'cuisine': 'Italian'}\n",
      "{'_id': ObjectId('60ec6894f98f44ebb8c5328c'), 'meal_id': 2306, 'category': 'Pasta', 'cuisine': 'Italian'}\n",
      "{'_id': ObjectId('60ec6894f98f44ebb8c5328d'), 'meal_id': 2139, 'category': 'Beverages', 'cuisine': 'Indian'}\n",
      "{'_id': ObjectId('60ec6894f98f44ebb8c5328e'), 'meal_id': 2826, 'category': 'Sandwich', 'cuisine': 'Italian'}\n",
      "{'_id': ObjectId('60ec6894f98f44ebb8c5328f'), 'meal_id': 2664, 'category': 'Salad', 'cuisine': 'Italian'}\n",
      "{'_id': ObjectId('60ec6894f98f44ebb8c53290'), 'meal_id': 2569, 'category': 'Salad', 'cuisine': 'Italian'}\n",
      "{'_id': ObjectId('60ec6894f98f44ebb8c53291'), 'meal_id': 1230, 'category': 'Beverages', 'cuisine': 'Continental'}\n",
      "{'_id': ObjectId('60ec6894f98f44ebb8c53292'), 'meal_id': 1207, 'category': 'Beverages', 'cuisine': 'Continental'}\n",
      "{'_id': ObjectId('60ec6894f98f44ebb8c53293'), 'meal_id': 2322, 'category': 'Beverages', 'cuisine': 'Continental'}\n",
      "{'_id': ObjectId('60ec6894f98f44ebb8c53294'), 'meal_id': 2492, 'category': 'Desert', 'cuisine': 'Indian'}\n",
      "{'_id': ObjectId('60ec6894f98f44ebb8c53295'), 'meal_id': 1216, 'category': 'Pasta', 'cuisine': 'Italian'}\n",
      "{'_id': ObjectId('60ec6894f98f44ebb8c53296'), 'meal_id': 1727, 'category': 'Rice Bowl', 'cuisine': 'Indian'}\n",
      "{'_id': ObjectId('60ec6894f98f44ebb8c53297'), 'meal_id': 1902, 'category': 'Biryani', 'cuisine': 'Indian'}\n",
      "{'_id': ObjectId('60ec6894f98f44ebb8c53298'), 'meal_id': 1247, 'category': 'Biryani', 'cuisine': 'Indian'}\n",
      "{'_id': ObjectId('60ec6894f98f44ebb8c53299'), 'meal_id': 2304, 'category': 'Desert', 'cuisine': 'Indian'}\n",
      "{'_id': ObjectId('60ec6894f98f44ebb8c5329a'), 'meal_id': 1543, 'category': 'Desert', 'cuisine': 'Indian'}\n",
      "{'_id': ObjectId('60ec6894f98f44ebb8c5329b'), 'meal_id': 1770, 'category': 'Biryani', 'cuisine': 'Indian'}\n",
      "{'_id': ObjectId('60ec6894f98f44ebb8c5329c'), 'meal_id': 2126, 'category': 'Pasta', 'cuisine': 'Italian'}\n",
      "{'_id': ObjectId('60ec6894f98f44ebb8c5329d'), 'meal_id': 1558, 'category': 'Pizza', 'cuisine': 'Continental'}\n",
      "{'_id': ObjectId('60ec6894f98f44ebb8c5329e'), 'meal_id': 2581, 'category': 'Pizza', 'cuisine': 'Continental'}\n",
      "{'_id': ObjectId('60ec6894f98f44ebb8c5329f'), 'meal_id': 1962, 'category': 'Pizza', 'cuisine': 'Continental'}\n",
      "{'_id': ObjectId('60ec6894f98f44ebb8c532a0'), 'meal_id': 1571, 'category': 'Fish', 'cuisine': 'Continental'}\n",
      "{'_id': ObjectId('60ec6894f98f44ebb8c532a1'), 'meal_id': 2956, 'category': 'Fish', 'cuisine': 'Continental'}\n",
      "{'_id': ObjectId('60ec6894f98f44ebb8c532a2'), 'meal_id': 2104, 'category': 'Fish', 'cuisine': 'Continental'}\n",
      "{'_id': ObjectId('60ec6894f98f44ebb8c532a3'), 'meal_id': 2444, 'category': 'Seafood', 'cuisine': 'Continental'}\n",
      "{'_id': ObjectId('60ec6894f98f44ebb8c532a4'), 'meal_id': 2867, 'category': 'Seafood', 'cuisine': 'Continental'}\n",
      "{'_id': ObjectId('60ec6894f98f44ebb8c532a5'), 'meal_id': 1445, 'category': 'Seafood', 'cuisine': 'Continental'}\n",
      "{'_id': ObjectId('60ec689cf98f44ebb8c532a6'), 'meal_id': 1010, 'category': 'frenchfries', 'cuisine': 'Indian'}\n",
      "{'_id': ObjectId('60ec68bc058221f1b595355c'), 'meal_id': 1885, 'category': 'Beverages', 'cuisine': 'Thai'}\n",
      "{'_id': ObjectId('60ec68bc058221f1b595355d'), 'meal_id': 1993, 'category': 'Beverages', 'cuisine': 'Thai'}\n",
      "{'_id': ObjectId('60ec68bc058221f1b595355e'), 'meal_id': 2539, 'category': 'Beverages', 'cuisine': 'Thai'}\n",
      "{'_id': ObjectId('60ec68bc058221f1b595355f'), 'meal_id': 1248, 'category': 'Beverages', 'cuisine': 'Indian'}\n",
      "{'_id': ObjectId('60ec68bc058221f1b5953560'), 'meal_id': 2631, 'category': 'Beverages', 'cuisine': 'Indian'}\n",
      "{'_id': ObjectId('60ec68bc058221f1b5953561'), 'meal_id': 1311, 'category': 'Extras', 'cuisine': 'Thai'}\n",
      "{'_id': ObjectId('60ec68bc058221f1b5953562'), 'meal_id': 1062, 'category': 'Beverages', 'cuisine': 'Italian'}\n",
      "{'_id': ObjectId('60ec68bc058221f1b5953563'), 'meal_id': 1778, 'category': 'Beverages', 'cuisine': 'Italian'}\n",
      "{'_id': ObjectId('60ec68bc058221f1b5953564'), 'meal_id': 1803, 'category': 'Extras', 'cuisine': 'Thai'}\n",
      "{'_id': ObjectId('60ec68bc058221f1b5953565'), 'meal_id': 1198, 'category': 'Extras', 'cuisine': 'Thai'}\n",
      "{'_id': ObjectId('60ec68bc058221f1b5953566'), 'meal_id': 2707, 'category': 'Beverages', 'cuisine': 'Italian'}\n",
      "{'_id': ObjectId('60ec68bc058221f1b5953567'), 'meal_id': 1847, 'category': 'Soup', 'cuisine': 'Thai'}\n",
      "{'_id': ObjectId('60ec68bc058221f1b5953568'), 'meal_id': 1438, 'category': 'Soup', 'cuisine': 'Thai'}\n",
      "{'_id': ObjectId('60ec68bc058221f1b5953569'), 'meal_id': 2494, 'category': 'Soup', 'cuisine': 'Thai'}\n",
      "{'_id': ObjectId('60ec68bc058221f1b595356a'), 'meal_id': 2760, 'category': 'Other Snacks', 'cuisine': 'Thai'}\n",
      "{'_id': ObjectId('60ec68bc058221f1b595356b'), 'meal_id': 2490, 'category': 'Salad', 'cuisine': 'Italian'}\n",
      "{'_id': ObjectId('60ec68bc058221f1b595356c'), 'meal_id': 1109, 'category': 'Rice Bowl', 'cuisine': 'Indian'}\n",
      "{'_id': ObjectId('60ec68bc058221f1b595356d'), 'meal_id': 2290, 'category': 'Rice Bowl', 'cuisine': 'Indian'}\n",
      "{'_id': ObjectId('60ec68bc058221f1b595356e'), 'meal_id': 1525, 'category': 'Other Snacks', 'cuisine': 'Thai'}\n",
      "{'_id': ObjectId('60ec68bc058221f1b595356f'), 'meal_id': 2704, 'category': 'Other Snacks', 'cuisine': 'Thai'}\n",
      "{'_id': ObjectId('60ec68bc058221f1b5953570'), 'meal_id': 1878, 'category': 'Starters', 'cuisine': 'Thai'}\n",
      "{'_id': ObjectId('60ec68bc058221f1b5953571'), 'meal_id': 2640, 'category': 'Starters', 'cuisine': 'Thai'}\n",
      "{'_id': ObjectId('60ec68bc058221f1b5953572'), 'meal_id': 2577, 'category': 'Starters', 'cuisine': 'Thai'}\n",
      "{'_id': ObjectId('60ec68bc058221f1b5953573'), 'meal_id': 1754, 'category': 'Sandwich', 'cuisine': 'Italian'}\n",
      "{'_id': ObjectId('60ec68bc058221f1b5953574'), 'meal_id': 1971, 'category': 'Sandwich', 'cuisine': 'Italian'}\n",
      "{'_id': ObjectId('60ec68bc058221f1b5953575'), 'meal_id': 2306, 'category': 'Pasta', 'cuisine': 'Italian'}\n",
      "{'_id': ObjectId('60ec68bc058221f1b5953576'), 'meal_id': 2139, 'category': 'Beverages', 'cuisine': 'Indian'}\n",
      "{'_id': ObjectId('60ec68bc058221f1b5953577'), 'meal_id': 2826, 'category': 'Sandwich', 'cuisine': 'Italian'}\n",
      "{'_id': ObjectId('60ec68bc058221f1b5953578'), 'meal_id': 2664, 'category': 'Salad', 'cuisine': 'Italian'}\n",
      "{'_id': ObjectId('60ec68bc058221f1b5953579'), 'meal_id': 2569, 'category': 'Salad', 'cuisine': 'Italian'}\n",
      "{'_id': ObjectId('60ec68bc058221f1b595357a'), 'meal_id': 1230, 'category': 'Beverages', 'cuisine': 'Continental'}\n",
      "{'_id': ObjectId('60ec68bc058221f1b595357b'), 'meal_id': 1207, 'category': 'Beverages', 'cuisine': 'Continental'}\n",
      "{'_id': ObjectId('60ec68bc058221f1b595357c'), 'meal_id': 2322, 'category': 'Beverages', 'cuisine': 'Continental'}\n",
      "{'_id': ObjectId('60ec68bc058221f1b595357d'), 'meal_id': 2492, 'category': 'Desert', 'cuisine': 'Indian'}\n",
      "{'_id': ObjectId('60ec68bc058221f1b595357e'), 'meal_id': 1216, 'category': 'Pasta', 'cuisine': 'Italian'}\n",
      "{'_id': ObjectId('60ec68bc058221f1b595357f'), 'meal_id': 1727, 'category': 'Rice Bowl', 'cuisine': 'Indian'}\n",
      "{'_id': ObjectId('60ec68bc058221f1b5953580'), 'meal_id': 1902, 'category': 'Biryani', 'cuisine': 'Indian'}\n",
      "{'_id': ObjectId('60ec68bc058221f1b5953581'), 'meal_id': 1247, 'category': 'Biryani', 'cuisine': 'Indian'}\n",
      "{'_id': ObjectId('60ec68bc058221f1b5953582'), 'meal_id': 2304, 'category': 'Desert', 'cuisine': 'Indian'}\n",
      "{'_id': ObjectId('60ec68bc058221f1b5953583'), 'meal_id': 1543, 'category': 'Desert', 'cuisine': 'Indian'}\n",
      "{'_id': ObjectId('60ec68bc058221f1b5953584'), 'meal_id': 1770, 'category': 'Biryani', 'cuisine': 'Indian'}\n",
      "{'_id': ObjectId('60ec68bc058221f1b5953585'), 'meal_id': 2126, 'category': 'Pasta', 'cuisine': 'Italian'}\n",
      "{'_id': ObjectId('60ec68bc058221f1b5953586'), 'meal_id': 1558, 'category': 'Pizza', 'cuisine': 'Continental'}\n",
      "{'_id': ObjectId('60ec68bc058221f1b5953587'), 'meal_id': 2581, 'category': 'Pizza', 'cuisine': 'Continental'}\n",
      "{'_id': ObjectId('60ec68bc058221f1b5953588'), 'meal_id': 1962, 'category': 'Pizza', 'cuisine': 'Continental'}\n",
      "{'_id': ObjectId('60ec68bc058221f1b5953589'), 'meal_id': 1571, 'category': 'Fish', 'cuisine': 'Continental'}\n",
      "{'_id': ObjectId('60ec68bc058221f1b595358a'), 'meal_id': 2956, 'category': 'Fish', 'cuisine': 'Continental'}\n",
      "{'_id': ObjectId('60ec68bc058221f1b595358b'), 'meal_id': 2104, 'category': 'Fish', 'cuisine': 'Continental'}\n",
      "{'_id': ObjectId('60ec68bc058221f1b595358c'), 'meal_id': 2444, 'category': 'Seafood', 'cuisine': 'Continental'}\n",
      "{'_id': ObjectId('60ec68bc058221f1b595358d'), 'meal_id': 2867, 'category': 'Seafood', 'cuisine': 'Continental'}\n",
      "{'_id': ObjectId('60ec68bc058221f1b595358e'), 'meal_id': 1445, 'category': 'Seafood', 'cuisine': 'Continental'}\n",
      "{'_id': ObjectId('60ec68bd058221f1b595358f'), 'meal_id': 1010, 'category': 'frenchfries', 'cuisine': 'Indian'}\n"
     ]
    },
    {
     "data": {
      "text/plain": [
       "<pymongo.results.UpdateResult at 0x1c94061b4c0>"
      ]
     },
     "execution_count": 11,
     "metadata": {},
     "output_type": "execute_result"
    }
   ],
   "source": [
    "#update_one\n",
    "print(\"Documents in the collection: \")\n",
    "for meal_info in collection.find():\n",
    "    print(meal_info)\n",
    "collection.update_one({\"meal_id\":\"2539\"},{\"$set\":{\"category\":\"pure-veg\"}})"
   ]
  },
  {
   "cell_type": "code",
   "execution_count": 12,
   "id": "26b48b7d",
   "metadata": {},
   "outputs": [
    {
     "name": "stdout",
     "output_type": "stream",
     "text": [
      "Documents in the collection: \n",
      "{'_id': ObjectId('60ec6894f98f44ebb8c53273'), 'meal_id': 1885, 'category': 'Beverages', 'cuisine': 'Thai'}\n",
      "{'_id': ObjectId('60ec6894f98f44ebb8c53274'), 'meal_id': 1993, 'category': 'Beverages', 'cuisine': 'Thai'}\n",
      "{'_id': ObjectId('60ec6894f98f44ebb8c53275'), 'meal_id': 2539, 'category': 'Beverages', 'cuisine': 'Thai'}\n",
      "{'_id': ObjectId('60ec6894f98f44ebb8c53276'), 'meal_id': 1248, 'category': 'Beverages', 'cuisine': 'Indian'}\n",
      "{'_id': ObjectId('60ec6894f98f44ebb8c53277'), 'meal_id': 2631, 'category': 'Beverages', 'cuisine': 'Indian'}\n",
      "{'_id': ObjectId('60ec6894f98f44ebb8c53278'), 'meal_id': 1311, 'category': 'Extras', 'cuisine': 'Thai'}\n",
      "{'_id': ObjectId('60ec6894f98f44ebb8c53279'), 'meal_id': 1062, 'category': 'Beverages', 'cuisine': 'Italian'}\n",
      "{'_id': ObjectId('60ec6894f98f44ebb8c5327a'), 'meal_id': 1778, 'category': 'Beverages', 'cuisine': 'Italian'}\n",
      "{'_id': ObjectId('60ec6894f98f44ebb8c5327b'), 'meal_id': 1803, 'category': 'Extras', 'cuisine': 'Thai'}\n",
      "{'_id': ObjectId('60ec6894f98f44ebb8c5327c'), 'meal_id': 1198, 'category': 'Extras', 'cuisine': 'Thai'}\n",
      "{'_id': ObjectId('60ec6894f98f44ebb8c5327d'), 'meal_id': 2707, 'category': 'Beverages', 'cuisine': 'Italian'}\n",
      "{'_id': ObjectId('60ec6894f98f44ebb8c5327e'), 'meal_id': 1847, 'category': 'Soup', 'cuisine': 'Thai'}\n",
      "{'_id': ObjectId('60ec6894f98f44ebb8c5327f'), 'meal_id': 1438, 'category': 'Soup', 'cuisine': 'Thai'}\n",
      "{'_id': ObjectId('60ec6894f98f44ebb8c53280'), 'meal_id': 2494, 'category': 'Soup', 'cuisine': 'Thai'}\n",
      "{'_id': ObjectId('60ec6894f98f44ebb8c53281'), 'meal_id': 2760, 'category': 'Other Snacks', 'cuisine': 'Thai'}\n",
      "{'_id': ObjectId('60ec6894f98f44ebb8c53282'), 'meal_id': 2490, 'category': 'Salad', 'cuisine': 'Italian'}\n",
      "{'_id': ObjectId('60ec6894f98f44ebb8c53283'), 'meal_id': 1109, 'category': 'Rice Bowl', 'cuisine': 'Indian'}\n",
      "{'_id': ObjectId('60ec6894f98f44ebb8c53284'), 'meal_id': 2290, 'category': 'Rice Bowl', 'cuisine': 'Indian'}\n",
      "{'_id': ObjectId('60ec6894f98f44ebb8c53285'), 'meal_id': 1525, 'category': 'Other Snacks', 'cuisine': 'Thai'}\n",
      "{'_id': ObjectId('60ec6894f98f44ebb8c53286'), 'meal_id': 2704, 'category': 'Other Snacks', 'cuisine': 'Thai'}\n",
      "{'_id': ObjectId('60ec6894f98f44ebb8c53287'), 'meal_id': 1878, 'category': 'Starters', 'cuisine': 'Thai'}\n",
      "{'_id': ObjectId('60ec6894f98f44ebb8c53288'), 'meal_id': 2640, 'category': 'Starters', 'cuisine': 'Thai'}\n",
      "{'_id': ObjectId('60ec6894f98f44ebb8c53289'), 'meal_id': 2577, 'category': 'Starters', 'cuisine': 'Thai'}\n",
      "{'_id': ObjectId('60ec6894f98f44ebb8c5328a'), 'meal_id': 1754, 'category': 'Sandwich', 'cuisine': 'Italian'}\n",
      "{'_id': ObjectId('60ec6894f98f44ebb8c5328b'), 'meal_id': 1971, 'category': 'Sandwich', 'cuisine': 'Italian'}\n",
      "{'_id': ObjectId('60ec6894f98f44ebb8c5328c'), 'meal_id': 2306, 'category': 'Pasta', 'cuisine': 'Italian'}\n",
      "{'_id': ObjectId('60ec6894f98f44ebb8c5328d'), 'meal_id': 2139, 'category': 'Beverages', 'cuisine': 'Indian'}\n",
      "{'_id': ObjectId('60ec6894f98f44ebb8c5328e'), 'meal_id': 2826, 'category': 'Sandwich', 'cuisine': 'Italian'}\n",
      "{'_id': ObjectId('60ec6894f98f44ebb8c5328f'), 'meal_id': 2664, 'category': 'Salad', 'cuisine': 'Italian'}\n",
      "{'_id': ObjectId('60ec6894f98f44ebb8c53290'), 'meal_id': 2569, 'category': 'Salad', 'cuisine': 'Italian'}\n",
      "{'_id': ObjectId('60ec6894f98f44ebb8c53291'), 'meal_id': 1230, 'category': 'Beverages', 'cuisine': 'Continental'}\n",
      "{'_id': ObjectId('60ec6894f98f44ebb8c53292'), 'meal_id': 1207, 'category': 'Beverages', 'cuisine': 'Continental'}\n",
      "{'_id': ObjectId('60ec6894f98f44ebb8c53293'), 'meal_id': 2322, 'category': 'Beverages', 'cuisine': 'Continental'}\n",
      "{'_id': ObjectId('60ec6894f98f44ebb8c53294'), 'meal_id': 2492, 'category': 'Desert', 'cuisine': 'Indian'}\n",
      "{'_id': ObjectId('60ec6894f98f44ebb8c53295'), 'meal_id': 1216, 'category': 'Pasta', 'cuisine': 'Italian'}\n",
      "{'_id': ObjectId('60ec6894f98f44ebb8c53296'), 'meal_id': 1727, 'category': 'Rice Bowl', 'cuisine': 'Indian'}\n",
      "{'_id': ObjectId('60ec6894f98f44ebb8c53297'), 'meal_id': 1902, 'category': 'Biryani', 'cuisine': 'Indian'}\n",
      "{'_id': ObjectId('60ec6894f98f44ebb8c53298'), 'meal_id': 1247, 'category': 'Biryani', 'cuisine': 'Indian'}\n",
      "{'_id': ObjectId('60ec6894f98f44ebb8c53299'), 'meal_id': 2304, 'category': 'Desert', 'cuisine': 'Indian'}\n",
      "{'_id': ObjectId('60ec6894f98f44ebb8c5329a'), 'meal_id': 1543, 'category': 'Desert', 'cuisine': 'Indian'}\n",
      "{'_id': ObjectId('60ec6894f98f44ebb8c5329b'), 'meal_id': 1770, 'category': 'Biryani', 'cuisine': 'Indian'}\n",
      "{'_id': ObjectId('60ec6894f98f44ebb8c5329c'), 'meal_id': 2126, 'category': 'Pasta', 'cuisine': 'Italian'}\n",
      "{'_id': ObjectId('60ec6894f98f44ebb8c5329d'), 'meal_id': 1558, 'category': 'Pizza', 'cuisine': 'Continental'}\n",
      "{'_id': ObjectId('60ec6894f98f44ebb8c5329e'), 'meal_id': 2581, 'category': 'Pizza', 'cuisine': 'Continental'}\n",
      "{'_id': ObjectId('60ec6894f98f44ebb8c5329f'), 'meal_id': 1962, 'category': 'Pizza', 'cuisine': 'Continental'}\n",
      "{'_id': ObjectId('60ec6894f98f44ebb8c532a0'), 'meal_id': 1571, 'category': 'Fish', 'cuisine': 'Continental'}\n",
      "{'_id': ObjectId('60ec6894f98f44ebb8c532a1'), 'meal_id': 2956, 'category': 'Fish', 'cuisine': 'Continental'}\n",
      "{'_id': ObjectId('60ec6894f98f44ebb8c532a2'), 'meal_id': 2104, 'category': 'Fish', 'cuisine': 'Continental'}\n",
      "{'_id': ObjectId('60ec6894f98f44ebb8c532a3'), 'meal_id': 2444, 'category': 'Seafood', 'cuisine': 'Continental'}\n",
      "{'_id': ObjectId('60ec6894f98f44ebb8c532a4'), 'meal_id': 2867, 'category': 'Seafood', 'cuisine': 'Continental'}\n",
      "{'_id': ObjectId('60ec6894f98f44ebb8c532a5'), 'meal_id': 1445, 'category': 'Seafood', 'cuisine': 'Continental'}\n",
      "{'_id': ObjectId('60ec689cf98f44ebb8c532a6'), 'meal_id': 1010, 'category': 'frenchfries', 'cuisine': 'Indian'}\n",
      "{'_id': ObjectId('60ec68bc058221f1b595355c'), 'meal_id': 1885, 'category': 'Beverages', 'cuisine': 'Thai'}\n",
      "{'_id': ObjectId('60ec68bc058221f1b595355d'), 'meal_id': 1993, 'category': 'Beverages', 'cuisine': 'Thai'}\n",
      "{'_id': ObjectId('60ec68bc058221f1b595355e'), 'meal_id': 2539, 'category': 'Beverages', 'cuisine': 'Thai'}\n",
      "{'_id': ObjectId('60ec68bc058221f1b595355f'), 'meal_id': 1248, 'category': 'Beverages', 'cuisine': 'Indian'}\n",
      "{'_id': ObjectId('60ec68bc058221f1b5953560'), 'meal_id': 2631, 'category': 'Beverages', 'cuisine': 'Indian'}\n",
      "{'_id': ObjectId('60ec68bc058221f1b5953561'), 'meal_id': 1311, 'category': 'Extras', 'cuisine': 'Thai'}\n",
      "{'_id': ObjectId('60ec68bc058221f1b5953562'), 'meal_id': 1062, 'category': 'Beverages', 'cuisine': 'Italian'}\n",
      "{'_id': ObjectId('60ec68bc058221f1b5953563'), 'meal_id': 1778, 'category': 'Beverages', 'cuisine': 'Italian'}\n",
      "{'_id': ObjectId('60ec68bc058221f1b5953564'), 'meal_id': 1803, 'category': 'Extras', 'cuisine': 'Thai'}\n",
      "{'_id': ObjectId('60ec68bc058221f1b5953565'), 'meal_id': 1198, 'category': 'Extras', 'cuisine': 'Thai'}\n",
      "{'_id': ObjectId('60ec68bc058221f1b5953566'), 'meal_id': 2707, 'category': 'Beverages', 'cuisine': 'Italian'}\n",
      "{'_id': ObjectId('60ec68bc058221f1b5953567'), 'meal_id': 1847, 'category': 'Soup', 'cuisine': 'Thai'}\n",
      "{'_id': ObjectId('60ec68bc058221f1b5953568'), 'meal_id': 1438, 'category': 'Soup', 'cuisine': 'Thai'}\n",
      "{'_id': ObjectId('60ec68bc058221f1b5953569'), 'meal_id': 2494, 'category': 'Soup', 'cuisine': 'Thai'}\n",
      "{'_id': ObjectId('60ec68bc058221f1b595356a'), 'meal_id': 2760, 'category': 'Other Snacks', 'cuisine': 'Thai'}\n",
      "{'_id': ObjectId('60ec68bc058221f1b595356b'), 'meal_id': 2490, 'category': 'Salad', 'cuisine': 'Italian'}\n",
      "{'_id': ObjectId('60ec68bc058221f1b595356c'), 'meal_id': 1109, 'category': 'Rice Bowl', 'cuisine': 'Indian'}\n",
      "{'_id': ObjectId('60ec68bc058221f1b595356d'), 'meal_id': 2290, 'category': 'Rice Bowl', 'cuisine': 'Indian'}\n",
      "{'_id': ObjectId('60ec68bc058221f1b595356e'), 'meal_id': 1525, 'category': 'Other Snacks', 'cuisine': 'Thai'}\n",
      "{'_id': ObjectId('60ec68bc058221f1b595356f'), 'meal_id': 2704, 'category': 'Other Snacks', 'cuisine': 'Thai'}\n",
      "{'_id': ObjectId('60ec68bc058221f1b5953570'), 'meal_id': 1878, 'category': 'Starters', 'cuisine': 'Thai'}\n",
      "{'_id': ObjectId('60ec68bc058221f1b5953571'), 'meal_id': 2640, 'category': 'Starters', 'cuisine': 'Thai'}\n",
      "{'_id': ObjectId('60ec68bc058221f1b5953572'), 'meal_id': 2577, 'category': 'Starters', 'cuisine': 'Thai'}\n",
      "{'_id': ObjectId('60ec68bc058221f1b5953573'), 'meal_id': 1754, 'category': 'Sandwich', 'cuisine': 'Italian'}\n",
      "{'_id': ObjectId('60ec68bc058221f1b5953574'), 'meal_id': 1971, 'category': 'Sandwich', 'cuisine': 'Italian'}\n",
      "{'_id': ObjectId('60ec68bc058221f1b5953575'), 'meal_id': 2306, 'category': 'Pasta', 'cuisine': 'Italian'}\n",
      "{'_id': ObjectId('60ec68bc058221f1b5953576'), 'meal_id': 2139, 'category': 'Beverages', 'cuisine': 'Indian'}\n",
      "{'_id': ObjectId('60ec68bc058221f1b5953577'), 'meal_id': 2826, 'category': 'Sandwich', 'cuisine': 'Italian'}\n",
      "{'_id': ObjectId('60ec68bc058221f1b5953578'), 'meal_id': 2664, 'category': 'Salad', 'cuisine': 'Italian'}\n",
      "{'_id': ObjectId('60ec68bc058221f1b5953579'), 'meal_id': 2569, 'category': 'Salad', 'cuisine': 'Italian'}\n",
      "{'_id': ObjectId('60ec68bc058221f1b595357a'), 'meal_id': 1230, 'category': 'Beverages', 'cuisine': 'Continental'}\n",
      "{'_id': ObjectId('60ec68bc058221f1b595357b'), 'meal_id': 1207, 'category': 'Beverages', 'cuisine': 'Continental'}\n",
      "{'_id': ObjectId('60ec68bc058221f1b595357c'), 'meal_id': 2322, 'category': 'Beverages', 'cuisine': 'Continental'}\n",
      "{'_id': ObjectId('60ec68bc058221f1b595357d'), 'meal_id': 2492, 'category': 'Desert', 'cuisine': 'Indian'}\n",
      "{'_id': ObjectId('60ec68bc058221f1b595357e'), 'meal_id': 1216, 'category': 'Pasta', 'cuisine': 'Italian'}\n",
      "{'_id': ObjectId('60ec68bc058221f1b595357f'), 'meal_id': 1727, 'category': 'Rice Bowl', 'cuisine': 'Indian'}\n",
      "{'_id': ObjectId('60ec68bc058221f1b5953580'), 'meal_id': 1902, 'category': 'Biryani', 'cuisine': 'Indian'}\n",
      "{'_id': ObjectId('60ec68bc058221f1b5953581'), 'meal_id': 1247, 'category': 'Biryani', 'cuisine': 'Indian'}\n",
      "{'_id': ObjectId('60ec68bc058221f1b5953582'), 'meal_id': 2304, 'category': 'Desert', 'cuisine': 'Indian'}\n",
      "{'_id': ObjectId('60ec68bc058221f1b5953583'), 'meal_id': 1543, 'category': 'Desert', 'cuisine': 'Indian'}\n",
      "{'_id': ObjectId('60ec68bc058221f1b5953584'), 'meal_id': 1770, 'category': 'Biryani', 'cuisine': 'Indian'}\n",
      "{'_id': ObjectId('60ec68bc058221f1b5953585'), 'meal_id': 2126, 'category': 'Pasta', 'cuisine': 'Italian'}\n",
      "{'_id': ObjectId('60ec68bc058221f1b5953586'), 'meal_id': 1558, 'category': 'Pizza', 'cuisine': 'Continental'}\n",
      "{'_id': ObjectId('60ec68bc058221f1b5953587'), 'meal_id': 2581, 'category': 'Pizza', 'cuisine': 'Continental'}\n",
      "{'_id': ObjectId('60ec68bc058221f1b5953588'), 'meal_id': 1962, 'category': 'Pizza', 'cuisine': 'Continental'}\n",
      "{'_id': ObjectId('60ec68bc058221f1b5953589'), 'meal_id': 1571, 'category': 'Fish', 'cuisine': 'Continental'}\n",
      "{'_id': ObjectId('60ec68bc058221f1b595358a'), 'meal_id': 2956, 'category': 'Fish', 'cuisine': 'Continental'}\n",
      "{'_id': ObjectId('60ec68bc058221f1b595358b'), 'meal_id': 2104, 'category': 'Fish', 'cuisine': 'Continental'}\n",
      "{'_id': ObjectId('60ec68bc058221f1b595358c'), 'meal_id': 2444, 'category': 'Seafood', 'cuisine': 'Continental'}\n",
      "{'_id': ObjectId('60ec68bc058221f1b595358d'), 'meal_id': 2867, 'category': 'Seafood', 'cuisine': 'Continental'}\n",
      "{'_id': ObjectId('60ec68bc058221f1b595358e'), 'meal_id': 1445, 'category': 'Seafood', 'cuisine': 'Continental'}\n",
      "{'_id': ObjectId('60ec68bd058221f1b595358f'), 'meal_id': 1010, 'category': 'frenchfries', 'cuisine': 'Indian'}\n"
     ]
    },
    {
     "ename": "NameError",
     "evalue": "name 'coll' is not defined",
     "output_type": "error",
     "traceback": [
      "\u001b[1;31m---------------------------------------------------------------------------\u001b[0m",
      "\u001b[1;31mNameError\u001b[0m                                 Traceback (most recent call last)",
      "\u001b[1;32m<ipython-input-12-6b455a32f16b>\u001b[0m in \u001b[0;36m<module>\u001b[1;34m\u001b[0m\n\u001b[0;32m      2\u001b[0m \u001b[1;32mfor\u001b[0m \u001b[0mmeal_info\u001b[0m \u001b[1;32min\u001b[0m \u001b[0mcollection\u001b[0m\u001b[1;33m.\u001b[0m\u001b[0mfind\u001b[0m\u001b[1;33m(\u001b[0m\u001b[1;33m)\u001b[0m\u001b[1;33m:\u001b[0m\u001b[1;33m\u001b[0m\u001b[1;33m\u001b[0m\u001b[0m\n\u001b[0;32m      3\u001b[0m     \u001b[0mprint\u001b[0m\u001b[1;33m(\u001b[0m\u001b[0mmeal_info\u001b[0m\u001b[1;33m)\u001b[0m\u001b[1;33m\u001b[0m\u001b[1;33m\u001b[0m\u001b[0m\n\u001b[1;32m----> 4\u001b[1;33m \u001b[0mcoll\u001b[0m\u001b[1;33m.\u001b[0m\u001b[0mupdate_many\u001b[0m\u001b[1;33m(\u001b[0m\u001b[1;33m{\u001b[0m\u001b[1;33m}\u001b[0m\u001b[1;33m,\u001b[0m\u001b[1;33m{\u001b[0m\u001b[1;34m\"$set\"\u001b[0m\u001b[1;33m:\u001b[0m\u001b[1;33m{\u001b[0m\u001b[1;34m\"category\"\u001b[0m\u001b[1;33m:\u001b[0m\u001b[1;34m\"PURE_VEG\"\u001b[0m\u001b[1;33m}\u001b[0m\u001b[1;33m}\u001b[0m\u001b[1;33m)\u001b[0m\u001b[1;33m\u001b[0m\u001b[1;33m\u001b[0m\u001b[0m\n\u001b[0m",
      "\u001b[1;31mNameError\u001b[0m: name 'coll' is not defined"
     ]
    }
   ],
   "source": [
    "#update_many\n",
    "print(\"Documents in the collection: \")\n",
    "for meal_info in collection.find():\n",
    "    print(meal_info)\n",
    "coll.update_many({},{\"$set\":{\"category\":\"PURE_VEG\"}})\n"
   ]
  },
  {
   "cell_type": "code",
   "execution_count": 13,
   "id": "17224b0c",
   "metadata": {},
   "outputs": [],
   "source": [
    "#Creating the list of documents\n",
    "meal_info=[{\"meal_id\": \"1067\", \"category\": \"seafood\", \"cuisine\": \"cintinential\"},\n",
    "           {\"meal_id\": \"15167\", \"category\": \"thai\", \"cuisine\": \"indian\"},\n",
    "           {\"meal_id\": \"17867\", \"category\": \"veg\", \"cuisine\": \"indian\"}]\n"
   ]
  },
  {
   "cell_type": "code",
   "execution_count": 14,
   "id": "4e182aad",
   "metadata": {},
   "outputs": [
    {
     "name": "stdout",
     "output_type": "stream",
     "text": [
      "Data inserted ......\n"
     ]
    }
   ],
   "source": [
    "#insert_many\n",
    "res = collection.insert_many(meal_info)\n",
    "print(\"Data inserted ......\")"
   ]
  },
  {
   "cell_type": "code",
   "execution_count": 15,
   "id": "32d2b9ac",
   "metadata": {},
   "outputs": [
    {
     "data": {
      "text/plain": [
       "<pymongo.cursor.Cursor at 0x1c940630e20>"
      ]
     },
     "execution_count": 15,
     "metadata": {},
     "output_type": "execute_result"
    }
   ],
   "source": [
    "collection.find()"
   ]
  },
  {
   "cell_type": "code",
   "execution_count": 16,
   "id": "da7034c3",
   "metadata": {},
   "outputs": [
    {
     "name": "stdout",
     "output_type": "stream",
     "text": [
      "{'_id': ObjectId('60ec6894f98f44ebb8c53273'), 'meal_id': 1885, 'category': 'Beverages', 'cuisine': 'Thai'}\n",
      "{'_id': ObjectId('60ec6894f98f44ebb8c53274'), 'meal_id': 1993, 'category': 'Beverages', 'cuisine': 'Thai'}\n",
      "{'_id': ObjectId('60ec6894f98f44ebb8c53275'), 'meal_id': 2539, 'category': 'Beverages', 'cuisine': 'Thai'}\n",
      "{'_id': ObjectId('60ec6894f98f44ebb8c53276'), 'meal_id': 1248, 'category': 'Beverages', 'cuisine': 'Indian'}\n",
      "{'_id': ObjectId('60ec6894f98f44ebb8c53277'), 'meal_id': 2631, 'category': 'Beverages', 'cuisine': 'Indian'}\n",
      "{'_id': ObjectId('60ec6894f98f44ebb8c53278'), 'meal_id': 1311, 'category': 'Extras', 'cuisine': 'Thai'}\n",
      "{'_id': ObjectId('60ec6894f98f44ebb8c53279'), 'meal_id': 1062, 'category': 'Beverages', 'cuisine': 'Italian'}\n",
      "{'_id': ObjectId('60ec6894f98f44ebb8c5327a'), 'meal_id': 1778, 'category': 'Beverages', 'cuisine': 'Italian'}\n",
      "{'_id': ObjectId('60ec6894f98f44ebb8c5327b'), 'meal_id': 1803, 'category': 'Extras', 'cuisine': 'Thai'}\n",
      "{'_id': ObjectId('60ec6894f98f44ebb8c5327c'), 'meal_id': 1198, 'category': 'Extras', 'cuisine': 'Thai'}\n",
      "{'_id': ObjectId('60ec6894f98f44ebb8c5327d'), 'meal_id': 2707, 'category': 'Beverages', 'cuisine': 'Italian'}\n",
      "{'_id': ObjectId('60ec6894f98f44ebb8c5327e'), 'meal_id': 1847, 'category': 'Soup', 'cuisine': 'Thai'}\n",
      "{'_id': ObjectId('60ec6894f98f44ebb8c5327f'), 'meal_id': 1438, 'category': 'Soup', 'cuisine': 'Thai'}\n",
      "{'_id': ObjectId('60ec6894f98f44ebb8c53280'), 'meal_id': 2494, 'category': 'Soup', 'cuisine': 'Thai'}\n",
      "{'_id': ObjectId('60ec6894f98f44ebb8c53281'), 'meal_id': 2760, 'category': 'Other Snacks', 'cuisine': 'Thai'}\n",
      "{'_id': ObjectId('60ec6894f98f44ebb8c53282'), 'meal_id': 2490, 'category': 'Salad', 'cuisine': 'Italian'}\n",
      "{'_id': ObjectId('60ec6894f98f44ebb8c53283'), 'meal_id': 1109, 'category': 'Rice Bowl', 'cuisine': 'Indian'}\n",
      "{'_id': ObjectId('60ec6894f98f44ebb8c53284'), 'meal_id': 2290, 'category': 'Rice Bowl', 'cuisine': 'Indian'}\n",
      "{'_id': ObjectId('60ec6894f98f44ebb8c53285'), 'meal_id': 1525, 'category': 'Other Snacks', 'cuisine': 'Thai'}\n",
      "{'_id': ObjectId('60ec6894f98f44ebb8c53286'), 'meal_id': 2704, 'category': 'Other Snacks', 'cuisine': 'Thai'}\n",
      "{'_id': ObjectId('60ec6894f98f44ebb8c53287'), 'meal_id': 1878, 'category': 'Starters', 'cuisine': 'Thai'}\n",
      "{'_id': ObjectId('60ec6894f98f44ebb8c53288'), 'meal_id': 2640, 'category': 'Starters', 'cuisine': 'Thai'}\n",
      "{'_id': ObjectId('60ec6894f98f44ebb8c53289'), 'meal_id': 2577, 'category': 'Starters', 'cuisine': 'Thai'}\n",
      "{'_id': ObjectId('60ec6894f98f44ebb8c5328a'), 'meal_id': 1754, 'category': 'Sandwich', 'cuisine': 'Italian'}\n",
      "{'_id': ObjectId('60ec6894f98f44ebb8c5328b'), 'meal_id': 1971, 'category': 'Sandwich', 'cuisine': 'Italian'}\n",
      "{'_id': ObjectId('60ec6894f98f44ebb8c5328c'), 'meal_id': 2306, 'category': 'Pasta', 'cuisine': 'Italian'}\n",
      "{'_id': ObjectId('60ec6894f98f44ebb8c5328d'), 'meal_id': 2139, 'category': 'Beverages', 'cuisine': 'Indian'}\n",
      "{'_id': ObjectId('60ec6894f98f44ebb8c5328e'), 'meal_id': 2826, 'category': 'Sandwich', 'cuisine': 'Italian'}\n",
      "{'_id': ObjectId('60ec6894f98f44ebb8c5328f'), 'meal_id': 2664, 'category': 'Salad', 'cuisine': 'Italian'}\n",
      "{'_id': ObjectId('60ec6894f98f44ebb8c53290'), 'meal_id': 2569, 'category': 'Salad', 'cuisine': 'Italian'}\n",
      "{'_id': ObjectId('60ec6894f98f44ebb8c53291'), 'meal_id': 1230, 'category': 'Beverages', 'cuisine': 'Continental'}\n",
      "{'_id': ObjectId('60ec6894f98f44ebb8c53292'), 'meal_id': 1207, 'category': 'Beverages', 'cuisine': 'Continental'}\n",
      "{'_id': ObjectId('60ec6894f98f44ebb8c53293'), 'meal_id': 2322, 'category': 'Beverages', 'cuisine': 'Continental'}\n",
      "{'_id': ObjectId('60ec6894f98f44ebb8c53294'), 'meal_id': 2492, 'category': 'Desert', 'cuisine': 'Indian'}\n",
      "{'_id': ObjectId('60ec6894f98f44ebb8c53295'), 'meal_id': 1216, 'category': 'Pasta', 'cuisine': 'Italian'}\n",
      "{'_id': ObjectId('60ec6894f98f44ebb8c53296'), 'meal_id': 1727, 'category': 'Rice Bowl', 'cuisine': 'Indian'}\n",
      "{'_id': ObjectId('60ec6894f98f44ebb8c53297'), 'meal_id': 1902, 'category': 'Biryani', 'cuisine': 'Indian'}\n",
      "{'_id': ObjectId('60ec6894f98f44ebb8c53298'), 'meal_id': 1247, 'category': 'Biryani', 'cuisine': 'Indian'}\n",
      "{'_id': ObjectId('60ec6894f98f44ebb8c53299'), 'meal_id': 2304, 'category': 'Desert', 'cuisine': 'Indian'}\n",
      "{'_id': ObjectId('60ec6894f98f44ebb8c5329a'), 'meal_id': 1543, 'category': 'Desert', 'cuisine': 'Indian'}\n",
      "{'_id': ObjectId('60ec6894f98f44ebb8c5329b'), 'meal_id': 1770, 'category': 'Biryani', 'cuisine': 'Indian'}\n",
      "{'_id': ObjectId('60ec6894f98f44ebb8c5329c'), 'meal_id': 2126, 'category': 'Pasta', 'cuisine': 'Italian'}\n",
      "{'_id': ObjectId('60ec6894f98f44ebb8c5329d'), 'meal_id': 1558, 'category': 'Pizza', 'cuisine': 'Continental'}\n",
      "{'_id': ObjectId('60ec6894f98f44ebb8c5329e'), 'meal_id': 2581, 'category': 'Pizza', 'cuisine': 'Continental'}\n",
      "{'_id': ObjectId('60ec6894f98f44ebb8c5329f'), 'meal_id': 1962, 'category': 'Pizza', 'cuisine': 'Continental'}\n",
      "{'_id': ObjectId('60ec6894f98f44ebb8c532a0'), 'meal_id': 1571, 'category': 'Fish', 'cuisine': 'Continental'}\n",
      "{'_id': ObjectId('60ec6894f98f44ebb8c532a1'), 'meal_id': 2956, 'category': 'Fish', 'cuisine': 'Continental'}\n",
      "{'_id': ObjectId('60ec6894f98f44ebb8c532a2'), 'meal_id': 2104, 'category': 'Fish', 'cuisine': 'Continental'}\n",
      "{'_id': ObjectId('60ec6894f98f44ebb8c532a3'), 'meal_id': 2444, 'category': 'Seafood', 'cuisine': 'Continental'}\n",
      "{'_id': ObjectId('60ec6894f98f44ebb8c532a4'), 'meal_id': 2867, 'category': 'Seafood', 'cuisine': 'Continental'}\n",
      "{'_id': ObjectId('60ec6894f98f44ebb8c532a5'), 'meal_id': 1445, 'category': 'Seafood', 'cuisine': 'Continental'}\n",
      "{'_id': ObjectId('60ec689cf98f44ebb8c532a6'), 'meal_id': 1010, 'category': 'frenchfries', 'cuisine': 'Indian'}\n",
      "{'_id': ObjectId('60ec68bc058221f1b595355c'), 'meal_id': 1885, 'category': 'Beverages', 'cuisine': 'Thai'}\n",
      "{'_id': ObjectId('60ec68bc058221f1b595355d'), 'meal_id': 1993, 'category': 'Beverages', 'cuisine': 'Thai'}\n",
      "{'_id': ObjectId('60ec68bc058221f1b595355e'), 'meal_id': 2539, 'category': 'Beverages', 'cuisine': 'Thai'}\n",
      "{'_id': ObjectId('60ec68bc058221f1b595355f'), 'meal_id': 1248, 'category': 'Beverages', 'cuisine': 'Indian'}\n",
      "{'_id': ObjectId('60ec68bc058221f1b5953560'), 'meal_id': 2631, 'category': 'Beverages', 'cuisine': 'Indian'}\n",
      "{'_id': ObjectId('60ec68bc058221f1b5953561'), 'meal_id': 1311, 'category': 'Extras', 'cuisine': 'Thai'}\n",
      "{'_id': ObjectId('60ec68bc058221f1b5953562'), 'meal_id': 1062, 'category': 'Beverages', 'cuisine': 'Italian'}\n",
      "{'_id': ObjectId('60ec68bc058221f1b5953563'), 'meal_id': 1778, 'category': 'Beverages', 'cuisine': 'Italian'}\n",
      "{'_id': ObjectId('60ec68bc058221f1b5953564'), 'meal_id': 1803, 'category': 'Extras', 'cuisine': 'Thai'}\n",
      "{'_id': ObjectId('60ec68bc058221f1b5953565'), 'meal_id': 1198, 'category': 'Extras', 'cuisine': 'Thai'}\n",
      "{'_id': ObjectId('60ec68bc058221f1b5953566'), 'meal_id': 2707, 'category': 'Beverages', 'cuisine': 'Italian'}\n",
      "{'_id': ObjectId('60ec68bc058221f1b5953567'), 'meal_id': 1847, 'category': 'Soup', 'cuisine': 'Thai'}\n",
      "{'_id': ObjectId('60ec68bc058221f1b5953568'), 'meal_id': 1438, 'category': 'Soup', 'cuisine': 'Thai'}\n",
      "{'_id': ObjectId('60ec68bc058221f1b5953569'), 'meal_id': 2494, 'category': 'Soup', 'cuisine': 'Thai'}\n",
      "{'_id': ObjectId('60ec68bc058221f1b595356a'), 'meal_id': 2760, 'category': 'Other Snacks', 'cuisine': 'Thai'}\n",
      "{'_id': ObjectId('60ec68bc058221f1b595356b'), 'meal_id': 2490, 'category': 'Salad', 'cuisine': 'Italian'}\n",
      "{'_id': ObjectId('60ec68bc058221f1b595356c'), 'meal_id': 1109, 'category': 'Rice Bowl', 'cuisine': 'Indian'}\n",
      "{'_id': ObjectId('60ec68bc058221f1b595356d'), 'meal_id': 2290, 'category': 'Rice Bowl', 'cuisine': 'Indian'}\n",
      "{'_id': ObjectId('60ec68bc058221f1b595356e'), 'meal_id': 1525, 'category': 'Other Snacks', 'cuisine': 'Thai'}\n",
      "{'_id': ObjectId('60ec68bc058221f1b595356f'), 'meal_id': 2704, 'category': 'Other Snacks', 'cuisine': 'Thai'}\n",
      "{'_id': ObjectId('60ec68bc058221f1b5953570'), 'meal_id': 1878, 'category': 'Starters', 'cuisine': 'Thai'}\n",
      "{'_id': ObjectId('60ec68bc058221f1b5953571'), 'meal_id': 2640, 'category': 'Starters', 'cuisine': 'Thai'}\n",
      "{'_id': ObjectId('60ec68bc058221f1b5953572'), 'meal_id': 2577, 'category': 'Starters', 'cuisine': 'Thai'}\n",
      "{'_id': ObjectId('60ec68bc058221f1b5953573'), 'meal_id': 1754, 'category': 'Sandwich', 'cuisine': 'Italian'}\n",
      "{'_id': ObjectId('60ec68bc058221f1b5953574'), 'meal_id': 1971, 'category': 'Sandwich', 'cuisine': 'Italian'}\n",
      "{'_id': ObjectId('60ec68bc058221f1b5953575'), 'meal_id': 2306, 'category': 'Pasta', 'cuisine': 'Italian'}\n",
      "{'_id': ObjectId('60ec68bc058221f1b5953576'), 'meal_id': 2139, 'category': 'Beverages', 'cuisine': 'Indian'}\n",
      "{'_id': ObjectId('60ec68bc058221f1b5953577'), 'meal_id': 2826, 'category': 'Sandwich', 'cuisine': 'Italian'}\n",
      "{'_id': ObjectId('60ec68bc058221f1b5953578'), 'meal_id': 2664, 'category': 'Salad', 'cuisine': 'Italian'}\n",
      "{'_id': ObjectId('60ec68bc058221f1b5953579'), 'meal_id': 2569, 'category': 'Salad', 'cuisine': 'Italian'}\n",
      "{'_id': ObjectId('60ec68bc058221f1b595357a'), 'meal_id': 1230, 'category': 'Beverages', 'cuisine': 'Continental'}\n",
      "{'_id': ObjectId('60ec68bc058221f1b595357b'), 'meal_id': 1207, 'category': 'Beverages', 'cuisine': 'Continental'}\n",
      "{'_id': ObjectId('60ec68bc058221f1b595357c'), 'meal_id': 2322, 'category': 'Beverages', 'cuisine': 'Continental'}\n",
      "{'_id': ObjectId('60ec68bc058221f1b595357d'), 'meal_id': 2492, 'category': 'Desert', 'cuisine': 'Indian'}\n",
      "{'_id': ObjectId('60ec68bc058221f1b595357e'), 'meal_id': 1216, 'category': 'Pasta', 'cuisine': 'Italian'}\n",
      "{'_id': ObjectId('60ec68bc058221f1b595357f'), 'meal_id': 1727, 'category': 'Rice Bowl', 'cuisine': 'Indian'}\n",
      "{'_id': ObjectId('60ec68bc058221f1b5953580'), 'meal_id': 1902, 'category': 'Biryani', 'cuisine': 'Indian'}\n",
      "{'_id': ObjectId('60ec68bc058221f1b5953581'), 'meal_id': 1247, 'category': 'Biryani', 'cuisine': 'Indian'}\n",
      "{'_id': ObjectId('60ec68bc058221f1b5953582'), 'meal_id': 2304, 'category': 'Desert', 'cuisine': 'Indian'}\n",
      "{'_id': ObjectId('60ec68bc058221f1b5953583'), 'meal_id': 1543, 'category': 'Desert', 'cuisine': 'Indian'}\n",
      "{'_id': ObjectId('60ec68bc058221f1b5953584'), 'meal_id': 1770, 'category': 'Biryani', 'cuisine': 'Indian'}\n",
      "{'_id': ObjectId('60ec68bc058221f1b5953585'), 'meal_id': 2126, 'category': 'Pasta', 'cuisine': 'Italian'}\n",
      "{'_id': ObjectId('60ec68bc058221f1b5953586'), 'meal_id': 1558, 'category': 'Pizza', 'cuisine': 'Continental'}\n",
      "{'_id': ObjectId('60ec68bc058221f1b5953587'), 'meal_id': 2581, 'category': 'Pizza', 'cuisine': 'Continental'}\n",
      "{'_id': ObjectId('60ec68bc058221f1b5953588'), 'meal_id': 1962, 'category': 'Pizza', 'cuisine': 'Continental'}\n",
      "{'_id': ObjectId('60ec68bc058221f1b5953589'), 'meal_id': 1571, 'category': 'Fish', 'cuisine': 'Continental'}\n",
      "{'_id': ObjectId('60ec68bc058221f1b595358a'), 'meal_id': 2956, 'category': 'Fish', 'cuisine': 'Continental'}\n",
      "{'_id': ObjectId('60ec68bc058221f1b595358b'), 'meal_id': 2104, 'category': 'Fish', 'cuisine': 'Continental'}\n",
      "{'_id': ObjectId('60ec68bc058221f1b595358c'), 'meal_id': 2444, 'category': 'Seafood', 'cuisine': 'Continental'}\n",
      "{'_id': ObjectId('60ec68bc058221f1b595358d'), 'meal_id': 2867, 'category': 'Seafood', 'cuisine': 'Continental'}\n",
      "{'_id': ObjectId('60ec68bc058221f1b595358e'), 'meal_id': 1445, 'category': 'Seafood', 'cuisine': 'Continental'}\n",
      "{'_id': ObjectId('60ec68bd058221f1b595358f'), 'meal_id': 1010, 'category': 'frenchfries', 'cuisine': 'Indian'}\n",
      "{'_id': ObjectId('60ec68c6058221f1b5953590'), 'meal_id': '1067', 'category': 'seafood', 'cuisine': 'cintinential'}\n",
      "{'_id': ObjectId('60ec68c6058221f1b5953591'), 'meal_id': '15167', 'category': 'thai', 'cuisine': 'indian'}\n",
      "{'_id': ObjectId('60ec68c6058221f1b5953592'), 'meal_id': '17867', 'category': 'veg', 'cuisine': 'indian'}\n"
     ]
    }
   ],
   "source": [
    "res=collection.find()\n",
    "for i in res:\n",
    "    print(i)"
   ]
  },
  {
   "cell_type": "code",
   "execution_count": 17,
   "id": "adb6c926",
   "metadata": {},
   "outputs": [
    {
     "data": {
      "text/plain": [
       "<pymongo.results.DeleteResult at 0x1c93ffbbb00>"
      ]
     },
     "execution_count": 17,
     "metadata": {},
     "output_type": "execute_result"
    }
   ],
   "source": [
    "#delete_one\n",
    "collection.delete_one({\"meal_id\" : \"2581\"})"
   ]
  },
  {
   "cell_type": "code",
   "execution_count": 24,
   "id": "59721100",
   "metadata": {},
   "outputs": [
    {
     "name": "stdout",
     "output_type": "stream",
     "text": [
      "60ec77de058221f1b595359f\n",
      "60ec77de058221f1b59535a0\n",
      "60ec77de058221f1b59535a1\n"
     ]
    }
   ],
   "source": [
    "#inserted_ids \n",
    "info=[{\"meal_id\": \"10\", \"category\": \"seafood\", \"cuisine\": \"cintinential\"},\n",
    "           {\"meal_id\": \"17\", \"category\": \"thai\", \"cuisine\": \"indian\"},\n",
    "           {\"meal_id\": \"167\", \"category\": \"veg\", \"cuisine\": \"indian\"}]\n",
    "res=collection.insert_many(info)\n",
    "Inserted_IDs=res.inserted_ids\n",
    "for i in Inserted_IDs:\n",
    "    print(i)\n",
    "\n"
   ]
  },
  {
   "cell_type": "code",
   "execution_count": null,
   "id": "00dbf47e",
   "metadata": {},
   "outputs": [],
   "source": []
  }
 ],
 "metadata": {
  "kernelspec": {
   "display_name": "Python 3",
   "language": "python",
   "name": "python3"
  },
  "language_info": {
   "codemirror_mode": {
    "name": "ipython",
    "version": 3
   },
   "file_extension": ".py",
   "mimetype": "text/x-python",
   "name": "python",
   "nbconvert_exporter": "python",
   "pygments_lexer": "ipython3",
   "version": "3.8.8"
  }
 },
 "nbformat": 4,
 "nbformat_minor": 5
}
